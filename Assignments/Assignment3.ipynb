{
 "cells": [
  {
   "cell_type": "markdown",
   "metadata": {},
   "source": [
    "1.1 Write a Python Program to implement your own myreduce() function which works exactly like Python's built-in function reduce() "
   ]
  },
  {
   "cell_type": "code",
   "execution_count": 9,
   "metadata": {},
   "outputs": [
    {
     "data": {
      "text/plain": [
       "15"
      ]
     },
     "execution_count": 9,
     "metadata": {},
     "output_type": "execute_result"
    }
   ],
   "source": [
    "def sumnumbers(x,y):\n",
    "    return x+y;\n",
    "\n",
    "def myreduce(func, lstnumbers):\n",
    "    val = lstnumbers[0]\n",
    "    #print(lstnumbers[1:])\n",
    "    for i in lstnumbers[1:]:\n",
    "        val = func(val,i)\n",
    "        #print(val)\n",
    "    return val\n",
    "\n",
    "lstnumbers = [1,2,3,4,5]\n",
    "myreduce(sumnumbers,lstnumbers)"
   ]
  },
  {
   "cell_type": "markdown",
   "metadata": {},
   "source": [
    "1.2 Write a Python program to implement your own myfilter() function which works exactly like Python's built-in function filter() "
   ]
  },
  {
   "cell_type": "markdown",
   "metadata": {},
   "source": [
    "def iseven(x):\n",
    "    if x % 2 == 0:\n",
    "        return True\n",
    "    else:\n",
    "        return False\n",
    "\n",
    "def myfilter(func,lstnumbers):\n",
    "    lstevennumbers = []\n",
    "    for i in lstnumbers[0:]:\n",
    "        if iseven(i):\n",
    "            lstevennumbers.append(i)\n",
    "    return lstevennumbers\n",
    "\n",
    "lstnumbers = [20,21,22,23,24,25,33,35,37,45,49,50]\n",
    "myfilter(iseven,lstnumbers)\n",
    "\n",
    "    "
   ]
  },
  {
   "cell_type": "markdown",
   "metadata": {},
   "source": [
    "2. Implement List comprehensions to produce the following lists. \n",
    " \n",
    "   Write List comprehensions to produce the following Lists\n",
    "   \n",
    "   ['x', 'xx', 'xxx', 'xxxx', 'y', 'yy', 'yyy', 'yyyy', 'z', 'zz', 'zzz', 'zzzz'] \n",
    " \n",
    "   ['x', 'y', 'z', 'xx', 'yy', 'zz', 'xx', 'yy', 'zz', 'xxxx', 'yyyy', 'zzzz'] \n",
    " \n",
    "   [[2], [3], [4], [3], [4], [5], [4], [5], [6]] \n",
    " \n",
    "   [[2, 3, 4, 5], [3, 4, 5, 6], [4, 5, 6, 7], [5, 6, 7, 8]] \n",
    " \n",
    "   [(1, 1), (2, 1), (3, 1), (1, 2), (2, 2), (3, 2), (1, 3), (2, 3), (3, 3)] \n",
    " "
   ]
  },
  {
   "cell_type": "code",
   "execution_count": 4,
   "metadata": {},
   "outputs": [
    {
     "name": "stdout",
     "output_type": "stream",
     "text": [
      "['x', 'xx', 'xxx', 'xxxx', 'y', 'yy', 'yyy', 'yyyy', 'z', 'zz', 'zzz', 'zzzz']\n",
      "['x', 'y', 'z', 'xx', 'yy', 'zz', 'xx', 'yy', 'zz', 'xxxx', 'yyyy', 'zzzz']\n",
      "[[2], [3], [4], [3], [4], [5], [4], [5], [6]]\n",
      "[[2, 3, 4, 5], [3, 4, 5, 6], [4, 5, 6, 7], [5, 6, 7, 8]]\n",
      "[(1, 1), (1, 2), (1, 3), (2, 1), (2, 2), (2, 3), (3, 1), (3, 2), (3, 3)]\n"
     ]
    }
   ],
   "source": [
    "lst = ['x','y','z']\n",
    "newlst = []\n",
    "j = 1\n",
    "for lstitem in lst:\n",
    "    while j < 5:\n",
    "        newlst = newlst + [letter*j for letter in lstitem] \n",
    "        j += 1\n",
    "    j = 1\n",
    "print(newlst)\n",
    "\n",
    "j = 1\n",
    "newlst = []\n",
    "while j < 5:\n",
    "    if j != 3:\n",
    "        newlst = newlst + [letter*j for letter in lst] \n",
    "    else:\n",
    "        newlst = newlst + [letter*(j-1) for letter in lst] \n",
    "    j += 1\n",
    "j = 1\n",
    "print(newlst)\n",
    "\n",
    "lst = [2,3,4]\n",
    "newlst = []\n",
    "sval = ''\n",
    "j = 0\n",
    "while j < 3:\n",
    "    numberlst = [[x+j] for x in range(2,5)]\n",
    "    newlst = newlst + numberlst\n",
    "    j += 1\n",
    "print(newlst)\n",
    "\n",
    "newlst = []\n",
    "j = 0\n",
    "while j < 4:\n",
    "    newlst.append([x+j for x in range(2,6)])\n",
    "    j += 1\n",
    "print(newlst)\n",
    "\n",
    "newlst = []\n",
    "j = 0\n",
    "k = 0\n",
    "\n",
    "while j < 3:\n",
    "    while k < 3:\n",
    "        newlst = newlst + ([(x+j,x+k) for x in [1]])\n",
    "        k += 1\n",
    "    k = 0\n",
    "    j += 1    \n",
    "print(newlst)"
   ]
  }
 ],
 "metadata": {
  "kernelspec": {
   "display_name": "Python 3",
   "language": "python",
   "name": "python3"
  },
  "language_info": {
   "codemirror_mode": {
    "name": "ipython",
    "version": 3
   },
   "file_extension": ".py",
   "mimetype": "text/x-python",
   "name": "python",
   "nbconvert_exporter": "python",
   "pygments_lexer": "ipython3",
   "version": "3.7.6"
  }
 },
 "nbformat": 4,
 "nbformat_minor": 4
}
