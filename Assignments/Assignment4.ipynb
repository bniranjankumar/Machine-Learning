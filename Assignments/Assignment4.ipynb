{
 "cells": [
  {
   "cell_type": "markdown",
   "metadata": {},
   "source": [
    "1.1 Write a Python Program(with class concepts) to find the area of the triangle using the below formula. \n",
    " \n",
    "area = (s*(s-a)*(s-b)*(s-c)) ** 0.5 \n",
    " \n",
    "Function to take the length of the sides of triangle from user should be defined in the parent class and function to calculate the area should be defined in subclass. \n",
    " \n",
    " "
   ]
  },
  {
   "cell_type": "code",
   "execution_count": 16,
   "metadata": {},
   "outputs": [
    {
     "name": "stdout",
     "output_type": "stream",
     "text": [
      "Enter length of sides of triangle:\n",
      "Enter the first side of a Triangle: 20\n",
      "Enter the second side of a Triangle: 20\n",
      "Enter the third side of a Triangle: 10\n",
      "50.0\n",
      "25.0\n"
     ]
    },
    {
     "data": {
      "text/plain": [
       "96.82458365518542"
      ]
     },
     "execution_count": 16,
     "metadata": {},
     "output_type": "execute_result"
    }
   ],
   "source": [
    "def areaoftriangle(a,b,c):\n",
    "    s = a + b + c\n",
    "    print(s)\n",
    "    s = s/2\n",
    "    print(s)\n",
    "    return (s*(s-a)*(s-b)*(s-c))**0.5\n",
    "\n",
    "print('Enter length of sides of triangle:')\n",
    "a = float(input('Enter the first side of a Triangle: '))\n",
    "b = float(input('Enter the second side of a Triangle: '))\n",
    "c = float(input('Enter the third side of a Triangle: '))\n",
    "areaoftriangle(a,b,c)"
   ]
  },
  {
   "cell_type": "markdown",
   "metadata": {},
   "source": [
    "1.2 Write a function filter_long_words() that takes a list of words and an integer n and returns the list of words that are longer than n. "
   ]
  },
  {
   "cell_type": "code",
   "execution_count": 29,
   "metadata": {
    "scrolled": true
   },
   "outputs": [
    {
     "name": "stdout",
     "output_type": "stream",
     "text": [
      "Enter list of words Delhi,Coimbatore,Kolkatta,Hyderabad,Vishakapatnam,Pune\n",
      "Enter max length to check the words 5\n",
      "Original list: \n",
      "['Delhi', 'Coimbatore', 'Kolkatta', 'Hyderabad', 'Vishakapatnam', 'Pune']\n",
      "Modified list: \n",
      "['Coimbatore', 'Kolkatta', 'Hyderabad', 'Vishakapatnam']\n"
     ]
    }
   ],
   "source": [
    "def filter_long_words(lstwords, n):\n",
    "    lst = []\n",
    "    lst=([x for x in lstwords if len(x) > int(n)])\n",
    "    return lst\n",
    "\n",
    "lstofwords = input('Enter list of words ')\n",
    "maxlength = input('Enter max length to check the words ')\n",
    "\n",
    "if maxlength.isnumeric() == False:\n",
    "    print('The length should be a numeric value.')\n",
    "else:\n",
    "    lstofwords = lstofwords.split(',')\n",
    "    print('Original list: ')\n",
    "    print(lstofwords)\n",
    "    lstofwords = filter_long_words(lstofwords, maxlength)\n",
    "    print('Modified list: ')\n",
    "    print(lstofwords)    "
   ]
  },
  {
   "cell_type": "markdown",
   "metadata": {},
   "source": [
    "2.1 Write a Python program using function concept that maps  list of words into a list of integers representing the lengths of the corresponding words​. \n",
    " Hint: ​If a list [ ab,cde,erty] is passed on to the python function output should come as [2,3,4] \n",
    " Here 2,3 and 4 are the lengths of the words in the list. \n"
   ]
  },
  {
   "cell_type": "code",
   "execution_count": 36,
   "metadata": {},
   "outputs": [
    {
     "name": "stdout",
     "output_type": "stream",
     "text": [
      "Enter list of words Delhi,Coimbatore,Kolkatta,Hyderabad,Vishakapatnam,Pune\n",
      "Original list: \n",
      "['Delhi', 'Coimbatore', 'Kolkatta', 'Hyderabad', 'Vishakapatnam', 'Pune']\n",
      "Modified list: \n",
      "[5, 10, 8, 9, 13, 4]\n"
     ]
    }
   ],
   "source": [
    "def len_words_list(lstwords):\n",
    "    lst = []\n",
    "    lst = [len(x) for x in lstwords]\n",
    "    return lst\n",
    "\n",
    "lstofwords = input('Enter list of words ')\n",
    "lstofwords = lstofwords.split(',')\n",
    "print('Original list: ')\n",
    "print(lstofwords)\n",
    "lstofwords = len_words_list(lstofwords)\n",
    "print('Modified list: ')\n",
    "print(lstofwords)"
   ]
  },
  {
   "cell_type": "markdown",
   "metadata": {},
   "source": [
    "2.2 Write a Python function which takes a character (i.e. a string of length 1) and returns True if it is a vowel, False otherwise. "
   ]
  },
  {
   "cell_type": "code",
   "execution_count": 1,
   "metadata": {},
   "outputs": [
    {
     "name": "stdout",
     "output_type": "stream",
     "text": [
      "Enter character A\n"
     ]
    },
    {
     "data": {
      "text/plain": [
       "True"
      ]
     },
     "execution_count": 1,
     "metadata": {},
     "output_type": "execute_result"
    }
   ],
   "source": [
    "def is_vowel(char):\n",
    "    lst = ['a','e','i','o','u']\n",
    "    tempval = [x for x in lst if x == char]\n",
    "    if len(tempval) == 0:\n",
    "        return False\n",
    "    else:\n",
    "        return True\n",
    "\n",
    "charvalue = input('Enter character ')\n",
    "is_vowel(charvalue.lower())"
   ]
  }
 ],
 "metadata": {
  "kernelspec": {
   "display_name": "Python 3",
   "language": "python",
   "name": "python3"
  },
  "language_info": {
   "codemirror_mode": {
    "name": "ipython",
    "version": 3
   },
   "file_extension": ".py",
   "mimetype": "text/x-python",
   "name": "python",
   "nbconvert_exporter": "python",
   "pygments_lexer": "ipython3",
   "version": "3.7.6"
  }
 },
 "nbformat": 4,
 "nbformat_minor": 4
}
